{
 "cells": [
  {
   "cell_type": "code",
   "execution_count": 9,
   "metadata": {},
   "outputs": [],
   "source": [
    "import numpy as np\n",
    "\n",
    "\n",
    "def round_to_sf(x,sf):\n",
    "    if x == 0:\n",
    "        return 0\n",
    "    return round(x, -int(np.floor(np.log10(abs(x)))) + (sf - 1))\n",
    "    \n"
   ]
  },
  {
   "cell_type": "code",
   "execution_count": 10,
   "metadata": {},
   "outputs": [],
   "source": [
    "def f(x):\n",
    "    return(np.power(x,3)-2*x -5)\n",
    "def df(x):\n",
    "    return(3*np.power(x,2)-2)"
   ]
  },
  {
   "cell_type": "code",
   "execution_count": 11,
   "metadata": {},
   "outputs": [
    {
     "name": "stdout",
     "output_type": "stream",
     "text": [
      "Initial guess: 2\n",
      "Iteration 1: x_new = 2.1, f(x_new) = -1, f'(x_new) = 10, Relative Error: 4.761904761904765%\n",
      "Iteration 2: x_new = 2.0946, f(x_new) = 0.061, f'(x_new) = 11.23, Relative Error: 0.25780578630766227%\n",
      "Iteration 3: x_new = 2.0946, f(x_new) = 0.00054155, f'(x_new) = 11.162, Relative Error: 0.0%\n",
      "Convergence after 3 iterations.\n",
      "Root: 2.0946\n"
     ]
    }
   ],
   "source": [
    "import numpy as np\n",
    "\n",
    "\n",
    "class NewtonRaphson:\n",
    "    def __init__(self, f, df, x0, tol, sf, m, maxiter=50):\n",
    "        self.func = f\n",
    "        self.df = df\n",
    "        self.x0 = x0\n",
    "        self.tol = tol\n",
    "        self.sf = sf\n",
    "        self.m = m\n",
    "        self.maxiter = maxiter\n",
    "        self.steps = []\n",
    "\n",
    "    def solve(self):\n",
    "        sf = self.sf\n",
    "        x0 = round_to_sf(self.x0, sf)\n",
    "        func = self.func\n",
    "        df = self.df\n",
    "        self.steps.append(f\"Initial guess: {x0}\")\n",
    "\n",
    "        for i in range(self.maxiter):\n",
    "            # Evaluate function and its derivative\n",
    "            f_x0 = round_to_sf(func(x0), sf)\n",
    "            df_x0 = round_to_sf(df(x0), sf)\n",
    "            if df_x0 == 0:\n",
    "                self.steps.append(f\"Division by zero at iteration {i + 1}, derivative is zero.\")\n",
    "                break\n",
    "\n",
    "            # Calculate the next approximation for the root\n",
    "            x_new = round_to_sf(x0 - self.m * (f_x0 / df_x0), sf)\n",
    "            \n",
    "            # Calculate the relative error\n",
    "            epsolon_a = abs(((x_new - x0) / x_new) * 100) if x_new != 0 else float('inf')\n",
    "            self.steps.append(f\"Iteration {i + 1}: x_new = {x_new}, f(x_new) = {f_x0}, f'(x_new) = {df_x0}, Relative Error: {epsolon_a}%\")\n",
    "\n",
    "            # Check for convergence\n",
    "            if epsolon_a <= self.tol or f_x0 == 0:\n",
    "                self.steps.append(f\"Convergence after {i + 1} iterations.\")\n",
    "                self.steps.append(f\"Root: {x_new}\")\n",
    "                return x_new\n",
    "            \n",
    "            # Update the current point\n",
    "            x0 = x_new\n",
    "\n",
    "        self.steps.append(f\"No convergence after {self.maxiter} iterations.\")\n",
    "        return None\n",
    "\n",
    "# Sample usage (you must define the functions f and df, and provide initial values for x0, tol, etc.):\n",
    "nr = NewtonRaphson(f, df, 2, 0.001, 5, 1)\n",
    "root = nr.solve()\n",
    "for step in nr.steps:\n",
    "    print(step)\n"
   ]
  },
  {
   "cell_type": "code",
   "execution_count": 13,
   "metadata": {},
   "outputs": [
    {
     "name": "stdout",
     "output_type": "stream",
     "text": [
      "Initial guess: 2.0\n",
      "Iteration 1: x_new = 2.1, f(x_new) = -1.0, f'(x_new) = 10.0, Relative Error: 4.761904761904765%\n",
      "Iteration 2: x_new = 2.094568121, f(x_new) = 0.061, f'(x_new) = 11.23, Relative Error: 0.25933169446915705%\n",
      "Iteration 3: x_new = 2.094551482, f(x_new) = 0.0001857220104, f'(x_new) = 11.16164684, Relative Error: 0.0007943944153691842%\n",
      "Convergence after 3 iterations.\n",
      "Root: 2.094551482\n"
     ]
    }
   ],
   "source": [
    "import sys\n",
    "sys.path.append('../')  # This appends the parent directory to the system path.\n",
    "from parser.parsing_non_linear import NonlinearEquation\n",
    "\n",
    "equation = input(\"Enter the equation: \")\n",
    "x0 = float(input(\"Enter the initial guess: \"))\n",
    "tol = float(input(\"Enter the tolerance: \"))\n",
    "sf = int(input(\"Enter the significant figures: \"))\n",
    "m = float(input(\"Enter the m value: \"))\n",
    "maxiter = int(input(\"Enter the maximum number of iterations: \"))\n",
    "parser = NonlinearEquation(equation)\n",
    "f=parser.evaluate\n",
    "df=parser.evaluate_derivative\n",
    "\n",
    "nr = NewtonRaphson(f, df, x0, tol, sf, m, maxiter)\n",
    "root = nr.solve()\n",
    "for step in nr.steps:\n",
    "    print(step)\n",
    "    "
   ]
  },
  {
   "cell_type": "markdown",
   "metadata": {},
   "source": [
    "NewtonRaphoson 2nd method\n"
   ]
  },
  {
   "cell_type": "code",
   "execution_count": 21,
   "metadata": {},
   "outputs": [
    {
     "name": "stdout",
     "output_type": "stream",
     "text": [
      "Initial guess: 80\n",
      "Iteration 1: x_new =  80 - 521809110207401093 / 6709169531309861\n",
      "therefore, x_new = 2.224485791831526, f(x_new) = 2849222453, f'(x_new) = 183140881, f''(x_new) = 9417100, Relative Error: 3496.336748643926%\n",
      "\n",
      "_____________________________________________________\n",
      "Iteration 2: x_new =  2.224485791831526 - -1.0930580018333824 / 3.0918119950756906\n",
      "therefore, x_new = 2.578018931483707, f(x_new) = -0.6993213337147495, f'(x_new) = 1.5630268220577932, f''(x_new) = 0.9276982087153556, Relative Error: 13.713364759843516%\n",
      "\n",
      "_____________________________________________________\n",
      "Iteration 3: x_new =  2.578018931483707 - -0.20453217373200575 / 0.6179703121239049\n",
      "therefore, x_new = 2.9089930409503064, f(x_new) = -0.1871127237596113, f'(x_new) = 1.093096020529174, f''(x_new) = -3.083107264869682, Relative Error: 11.377617780703833%\n",
      "\n",
      "_____________________________________________________\n",
      "Iteration 4: x_new =  2.9089930409503064 - -0.00024081574322245696 / 0.0027371245550921906\n",
      "therefore, x_new = 2.9969743287490074, f(x_new) = -0.0027468345355998736, f'(x_new) = 0.08767027649514603, f''(x_new) = -1.8016930985478439, Relative Error: 2.9356703844515737%\n",
      "\n",
      "_____________________________________________________\n",
      "Iteration 5: x_new =  2.9969743287490074 - -1.2085974670841657e-11 / 3.998502909804023e-09\n",
      "therefore, x_new = 2.9999969537022637, f(x_new) = -1.1046148529203492e-07, f'(x_new) = 0.00010941347238713206, f''(x_new) = -0.07217723905239382, Relative Error: 0.10075426741771015%\n",
      "\n",
      "_____________________________________________________\n",
      "Iteration 6: x_new =  2.9999969537022637 - -2.85280376102761e-23 / -1.8688941504271472e-17\n",
      "therefore, x_new = 2.9999954272360587, f(x_new) = -2.5579538487363607e-13, f'(x_new) = 1.1152678780490533e-10, f''(x_new) = -7.311070032756106e-05, Relative Error: 5.088228439065748e-05%\n",
      "\n",
      "_____________________________________________________\n",
      "Iteration 7: x_new =  2.9999954272360587 - 7.131201609002078e-24 / 3.182104156089817e-18\n",
      "therefore, x_new = 2.999993186202686, f(x_new) = 2.842170943040401e-14, f'(x_new) = 2.509068508516066e-10, f''(x_new) = -0.00010974533097396488, Relative Error: 7.470128208819551e-05%\n",
      "\n",
      "_____________________________________________________\n",
      "Iteration 8: x_new =  2.999993186202686 - -4.750795525924674e-23 / -1.3632864594752355e-17\n",
      "therefore, x_new = 2.9999897013917773, f(x_new) = -8.526512829121202e-14, f'(x_new) = 5.571791916736402e-10, f''(x_new) = -0.0001635289071373336, Relative Error: 0.00011616076238896417%\n",
      "\n",
      "_____________________________________________________\n",
      "Iteration 9: x_new =  2.9999897013917773 - -2.8943566621113284e-22 / -5.457761461775018e-17\n",
      "therefore, x_new = 2.9999843981980003, f(x_new) = -2.2737367544323206e-13, f'(x_new) = 1.2729515219689347e-09, f''(x_new) = -0.0002471615066497179, Relative Error: 0.00017677404523143406%\n",
      "\n",
      "_____________________________________________________\n",
      "Convergence after 9 iterations.\n",
      "Root: 2.9999843981980003\n"
     ]
    }
   ],
   "source": [
    "from solver.second_newton_raphson import SecondNewtonRaphson\n",
    "import sys\n",
    "sys.path.append('../')  # This appends the parent directory to the system path.\n",
    "from parsers.parsing_non_linear import NonlinearEquation\n",
    "\n",
    "parsed_expr = \"x**5-11*x**4+46*x**3-90*x**2+81*x-27\"\n",
    "expression = NonlinearEquation(parsed_expr)\n",
    "x0 = 80\n",
    "tol =1e-6\n",
    "sf=100\n",
    "maxiter=100\n",
    "snr = SecondNewtonRaphson(expression.evaluate, expression.evaluate_derivative, expression.evaluate_second_derivative,x0, tol, sf,maxiter)\n",
    "root = snr.solve()\n",
    "for step in snr.steps:\n",
    "    print(step)\n",
    "        "
   ]
  }
 ],
 "metadata": {
  "kernelspec": {
   "display_name": "base",
   "language": "python",
   "name": "python3"
  },
  "language_info": {
   "codemirror_mode": {
    "name": "ipython",
    "version": 3
   },
   "file_extension": ".py",
   "mimetype": "text/x-python",
   "name": "python",
   "nbconvert_exporter": "python",
   "pygments_lexer": "ipython3",
   "version": "3.11.4"
  }
 },
 "nbformat": 4,
 "nbformat_minor": 2
}
