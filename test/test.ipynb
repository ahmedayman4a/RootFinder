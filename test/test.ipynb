{
 "cells": [
  {
   "cell_type": "code",
   "execution_count": 1,
   "metadata": {},
   "outputs": [],
   "source": [
    "import numpy as np\n",
    "\n",
    "\n",
    "def round_to_sf(x,sf):\n",
    "    if x == 0:\n",
    "        return 0\n",
    "    return round(x, -int(np.floor(np.log10(abs(x)))) + (sf - 1))\n",
    "    \n"
   ]
  },
  {
   "cell_type": "code",
   "execution_count": 2,
   "metadata": {},
   "outputs": [],
   "source": [
    "def f(x):\n",
    "    return(np.power(x,3)-2*x -5)\n",
    "def df(x):\n",
    "    return(3*np.power(x,2)-2)"
   ]
  },
  {
   "cell_type": "code",
   "execution_count": 3,
   "metadata": {},
   "outputs": [
    {
     "name": "stdout",
     "output_type": "stream",
     "text": [
      "Initial guess: 2\n",
      "Iteration 1: x_new = 2.1, f(x_new) = -1, f'(x_new) = 10, Relative Error: 4.761904761904765%\n",
      "Iteration 2: x_new = 2.0946, f(x_new) = 0.061, f'(x_new) = 11.23, Relative Error: 0.25780578630766227%\n",
      "Iteration 3: x_new = 2.0946, f(x_new) = 0.00054155, f'(x_new) = 11.162, Relative Error: 0.0%\n",
      "Convergence after 3 iterations.\n",
      "Root: 2.0946\n"
     ]
    }
   ],
   "source": [
    "import numpy as np\n",
    "\n",
    "\n",
    "class NewtonRaphson:\n",
    "    def __init__(self, f, df, x0, tol, sf, m, maxiter=50):\n",
    "        self.func = f\n",
    "        self.df = df\n",
    "        self.x0 = x0\n",
    "        self.tol = tol\n",
    "        self.sf = sf\n",
    "        self.m = m\n",
    "        self.maxiter = maxiter\n",
    "        self.steps = []\n",
    "\n",
    "    def solve(self):\n",
    "        sf = self.sf\n",
    "        x0 = round_to_sf(self.x0, sf)\n",
    "        func = self.func\n",
    "        df = self.df\n",
    "        self.steps.append(f\"Initial guess: {x0}\")\n",
    "\n",
    "        for i in range(self.maxiter):\n",
    "            # Evaluate function and its derivative\n",
    "            f_x0 = round_to_sf(func(x0), sf)\n",
    "            df_x0 = round_to_sf(df(x0), sf)\n",
    "            if df_x0 == 0:\n",
    "                self.steps.append(f\"Division by zero at iteration {i + 1}, derivative is zero.\")\n",
    "                break\n",
    "\n",
    "            # Calculate the next approximation for the root\n",
    "            x_new = round_to_sf(x0 - self.m * (f_x0 / df_x0), sf)\n",
    "            \n",
    "            # Calculate the relative error\n",
    "            epsolon_a = abs(((x_new - x0) / x_new) * 100) if x_new != 0 else float('inf')\n",
    "            self.steps.append(f\"Iteration {i + 1}: x_new = {x_new}, f(x_new) = {f_x0}, f'(x_new) = {df_x0}, Relative Error: {epsolon_a}%\")\n",
    "\n",
    "            # Check for convergence\n",
    "            if epsolon_a <= self.tol or f_x0 == 0:\n",
    "                self.steps.append(f\"Convergence after {i + 1} iterations.\")\n",
    "                self.steps.append(f\"Root: {x_new}\")\n",
    "                return x_new\n",
    "            \n",
    "            # Update the current point\n",
    "            x0 = x_new\n",
    "\n",
    "        self.steps.append(f\"No convergence after {self.maxiter} iterations.\")\n",
    "        return None\n",
    "\n",
    "# Sample usage (you must define the functions f and df, and provide initial values for x0, tol, etc.):\n",
    "nr = NewtonRaphson(f, df, 2, 0.001, 5, 1)\n",
    "root = nr.solve()\n",
    "for step in nr.steps:\n",
    "    print(step)\n"
   ]
  }
 ],
 "metadata": {
  "kernelspec": {
   "display_name": "base",
   "language": "python",
   "name": "python3"
  },
  "language_info": {
   "codemirror_mode": {
    "name": "ipython",
    "version": 3
   },
   "file_extension": ".py",
   "mimetype": "text/x-python",
   "name": "python",
   "nbconvert_exporter": "python",
   "pygments_lexer": "ipython3",
   "version": "3.11.4"
  }
 },
 "nbformat": 4,
 "nbformat_minor": 2
}
